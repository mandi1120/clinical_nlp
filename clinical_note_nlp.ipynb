{
 "cells": [
  {
   "cell_type": "markdown",
   "id": "b6bd3dbb-08dd-45c7-b189-6942712cb607",
   "metadata": {},
   "source": [
    "# Natural Language Processing on Clinical Notes \n",
    "\n",
    "Data source: \n",
    "https://www.kaggle.com/datasets/tboyle10/medicaltranscriptions\n",
    "<hr> "
   ]
  },
  {
   "cell_type": "markdown",
   "id": "58c04c2a-4f7b-4b96-897a-88467ed9df24",
   "metadata": {},
   "source": [
    "### Read Input File & Create Dataframe"
   ]
  },
  {
   "cell_type": "code",
   "execution_count": 1,
   "id": "8c2318df-53a3-497e-b283-3d747b3e4c46",
   "metadata": {
    "tags": []
   },
   "outputs": [
    {
     "name": "stdout",
     "output_type": "stream",
     "text": [
      "               id\n",
      "count  100.000000\n",
      "mean    49.500000\n",
      "std     29.011492\n",
      "min      0.000000\n",
      "25%     24.750000\n",
      "50%     49.500000\n",
      "75%     74.250000\n",
      "max     99.000000\n"
     ]
    }
   ],
   "source": [
    "import spacy\n",
    "import medspacy\n",
    "from medspacy.ner import TargetMatcher, TargetRule\n",
    "from medspacy.visualization import visualize_ent, visualize_dep\n",
    "import pandas as pd\n",
    "import matplotlib.pyplot as plt\n",
    "from collections import Counter\n",
    "\n",
    "# read input file \n",
    "df = pd.read_csv('input-mtsamples.csv')\n",
    "df.rename(columns={df.columns[0]: \"id\"}, inplace=True)\n",
    "#print(df.describe())\n",
    "#print(df.head())\n",
    "\n",
    "# limit to fewer rows\n",
    "filered_df = df[0:100] \n",
    "filered_df = filered_df.reset_index(drop=True)\n",
    "transcription_text = filered_df[\"transcription\"].to_dict()\n",
    "#print(transcription_text)\n",
    "print(filered_df.describe())\n"
   ]
  },
  {
   "cell_type": "markdown",
   "id": "0cdaffd6-f425-459f-ba34-6c3db997f610",
   "metadata": {},
   "source": [
    "<hr>  \n",
    "   \n",
    "## Named Entity Recognition   \n",
    "   \n",
    "<hr>       "
   ]
  },
  {
   "cell_type": "markdown",
   "id": "23d6a2cb-f4ea-4e1c-9a06-543d79979afc",
   "metadata": {
    "tags": []
   },
   "source": [
    "### Setup Medspacy Model & Targets"
   ]
  },
  {
   "cell_type": "code",
   "execution_count": 2,
   "id": "a32c6c30-d7eb-4c13-ac78-e3cf0ed2d77d",
   "metadata": {},
   "outputs": [],
   "source": [
    "# load default medspacy model\n",
    "nlp = medspacy.load()\n",
    "\n",
    "# set conditions and treatments to identify in text\n",
    "target_matcher = nlp.get_pipe(\"medspacy_target_matcher\")\n",
    "target_rules = [\n",
    "    TargetRule(\"pregnant\", \"PROBLEM\"),\n",
    "    TargetRule(\"stroke\", \"PROBLEM\"),    \n",
    "    TargetRule(\"cancer\", \"PROBLEM\"),    \n",
    "    TargetRule(\"pain\", \"PROBLEM\"),     \n",
    "    TargetRule(\"diabetes\", \"PROBLEM\", pattern=[{\"LOWER\": {\"IN\": [\"diabetic\", \"diabetes\"]}}]),\n",
    "    TargetRule(\"hypertension\", \"PROBLEM\"),       \n",
    "    TargetRule(\"insulin\", \"MEDICATION\"),       \n",
    "    TargetRule(\"percocet\", \"MEDICATION\")         \n",
    "]\n",
    "target_matcher.add(target_rules)"
   ]
  },
  {
   "cell_type": "markdown",
   "id": "e14b9d42-a5fc-4d2c-97f9-48950bf5419f",
   "metadata": {},
   "source": [
    "### Named Entity Recognition on a Single Patient's Notes\n",
    " - Identify notes that mention the specified target conditions or treatments"
   ]
  },
  {
   "cell_type": "code",
   "execution_count": 3,
   "id": "16fb4e17-b1d6-4f2a-84ff-a317fc14e9eb",
   "metadata": {
    "tags": []
   },
   "outputs": [
    {
     "name": "stdout",
     "output_type": "stream",
     "text": [
      "Target Entities Found: (diabetic, pain, pain, pain, pain, diabetes, hypertension, stroke, pain, pain, cancer)\n",
      "-------------------------------\n",
      "'diabetes' modified by (<ConTextModifier> [379, 380, FAMILY], <ConTextModifier> [380, 381, HISTORICAL])\n",
      "\n",
      "'hypertension' modified by (<ConTextModifier> [392, 393, FAMILY], <ConTextModifier> [393, 394, HISTORICAL])\n",
      "\n",
      "'stroke' modified by (<ConTextModifier> [392, 393, FAMILY], <ConTextModifier> [393, 394, HISTORICAL])\n",
      "\n",
      "'pain' modified by (<ConTextModifier> [618, 619, NEGATED_EXISTENCE],)\n",
      "\n",
      "'pain' modified by (<ConTextModifier> [666, 667, NEGATED_EXISTENCE],)\n",
      "\n",
      "'cancer' modified by (<ConTextModifier> [666, 667, NEGATED_EXISTENCE],)\n",
      "\n",
      "-------------------------------\n"
     ]
    },
    {
     "data": {
      "text/html": [
       "<span class=\"tex2jax_ignore\"><div class=\"entities\" style=\"line-height: 2.5; direction: ltr\">HISTORY OF PRESENT ILLNESS: , I have seen ABC today.  He is a very pleasant gentleman who is 42 years old, 344 pounds.  He is 5'9&quot;.  He has a BMI of 51.  He has been overweight for ten years since the age of 33, at his highest he was 358 pounds, at his lowest 260.  He is pursuing surgical attempts of weight loss to feel good, get healthy, and begin to exercise again.  He wants to be able to exercise and play volleyball.  Physically, he is sluggish.  He gets tired quickly.  He does not go out often.  When he loses weight he always regains it and he gains back more than he lost.  His biggest weight loss is 25 pounds and it was three months before he gained it back.  He did six months of not drinking alcohol and not taking in many calories.  He has been on multiple commercial weight loss programs including Slim Fast for one month one year ago and Atkin's Diet for one month two years ago.,PAST MEDICAL HISTORY: , He has difficulty climbing stairs, difficulty with airline seats, tying shoes, used to public seating, difficulty walking, high cholesterol, and high blood pressure.  He has asthma and difficulty walking two blocks or going eight to ten steps.  He has sleep apnea and snoring.  He is a \n",
       "<mark class=\"entity\" style=\"background: #2ca02c; padding: 0.45em 0.6em; margin: 0 0.25em; line-height: 1; border-radius: 0.35em;\">\n",
       "    diabetic\n",
       "    <span style=\"font-size: 0.8em; font-weight: bold; line-height: 1; border-radius: 0.35em; vertical-align: middle; margin-left: 0.5rem\">PROBLEM</span>\n",
       "</mark>\n",
       ", on medication.  He has joint \n",
       "<mark class=\"entity\" style=\"background: #2ca02c; padding: 0.45em 0.6em; margin: 0 0.25em; line-height: 1; border-radius: 0.35em;\">\n",
       "    pain\n",
       "    <span style=\"font-size: 0.8em; font-weight: bold; line-height: 1; border-radius: 0.35em; vertical-align: middle; margin-left: 0.5rem\">PROBLEM</span>\n",
       "</mark>\n",
       ", knee \n",
       "<mark class=\"entity\" style=\"background: #2ca02c; padding: 0.45em 0.6em; margin: 0 0.25em; line-height: 1; border-radius: 0.35em;\">\n",
       "    pain\n",
       "    <span style=\"font-size: 0.8em; font-weight: bold; line-height: 1; border-radius: 0.35em; vertical-align: middle; margin-left: 0.5rem\">PROBLEM</span>\n",
       "</mark>\n",
       ", back \n",
       "<mark class=\"entity\" style=\"background: #2ca02c; padding: 0.45em 0.6em; margin: 0 0.25em; line-height: 1; border-radius: 0.35em;\">\n",
       "    pain\n",
       "    <span style=\"font-size: 0.8em; font-weight: bold; line-height: 1; border-radius: 0.35em; vertical-align: middle; margin-left: 0.5rem\">PROBLEM</span>\n",
       "</mark>\n",
       ", foot and ankle \n",
       "<mark class=\"entity\" style=\"background: #2ca02c; padding: 0.45em 0.6em; margin: 0 0.25em; line-height: 1; border-radius: 0.35em;\">\n",
       "    pain\n",
       "    <span style=\"font-size: 0.8em; font-weight: bold; line-height: 1; border-radius: 0.35em; vertical-align: middle; margin-left: 0.5rem\">PROBLEM</span>\n",
       "</mark>\n",
       ", leg and foot swelling.  He has hemorrhoids.,PAST SURGICAL HISTORY: , Includes orthopedic or knee surgery.,SOCIAL HISTORY: , He is currently single.  He drinks alcohol ten to twelve drinks a week, but does not drink five days a week and then will binge drink.  He smokes one and a half pack a day for 15 years, but he has recently stopped smoking for the past two weeks.,\n",
       "<mark class=\"entity\" style=\"background: #1f77b4; padding: 0.45em 0.6em; margin: 0 0.25em; line-height: 1; border-radius: 0.35em;\">\n",
       "    FAMILY\n",
       "    <span style=\"font-size: 0.8em; font-weight: bold; line-height: 1; border-radius: 0.35em; vertical-align: middle; margin-left: 0.5rem\">FAMILY</span>\n",
       "</mark>\n",
       " \n",
       "<mark class=\"entity\" style=\"background: #ff7f0e; padding: 0.45em 0.6em; margin: 0 0.25em; line-height: 1; border-radius: 0.35em;\">\n",
       "    HISTORY\n",
       "    <span style=\"font-size: 0.8em; font-weight: bold; line-height: 1; border-radius: 0.35em; vertical-align: middle; margin-left: 0.5rem\">HISTORICAL</span>\n",
       "</mark>\n",
       ": , Obesity, heart disease, and \n",
       "<mark class=\"entity\" style=\"background: #2ca02c; padding: 0.45em 0.6em; margin: 0 0.25em; line-height: 1; border-radius: 0.35em;\">\n",
       "    diabetes\n",
       "    <span style=\"font-size: 0.8em; font-weight: bold; line-height: 1; border-radius: 0.35em; vertical-align: middle; margin-left: 0.5rem\">PROBLEM</span>\n",
       "</mark>\n",
       ".  \n",
       "<mark class=\"entity\" style=\"background: #1f77b4; padding: 0.45em 0.6em; margin: 0 0.25em; line-height: 1; border-radius: 0.35em;\">\n",
       "    Family\n",
       "    <span style=\"font-size: 0.8em; font-weight: bold; line-height: 1; border-radius: 0.35em; vertical-align: middle; margin-left: 0.5rem\">FAMILY</span>\n",
       "</mark>\n",
       " \n",
       "<mark class=\"entity\" style=\"background: #ff7f0e; padding: 0.45em 0.6em; margin: 0 0.25em; line-height: 1; border-radius: 0.35em;\">\n",
       "    history\n",
       "    <span style=\"font-size: 0.8em; font-weight: bold; line-height: 1; border-radius: 0.35em; vertical-align: middle; margin-left: 0.5rem\">HISTORICAL</span>\n",
       "</mark>\n",
       " is negative for \n",
       "<mark class=\"entity\" style=\"background: #2ca02c; padding: 0.45em 0.6em; margin: 0 0.25em; line-height: 1; border-radius: 0.35em;\">\n",
       "    hypertension\n",
       "    <span style=\"font-size: 0.8em; font-weight: bold; line-height: 1; border-radius: 0.35em; vertical-align: middle; margin-left: 0.5rem\">PROBLEM</span>\n",
       "</mark>\n",
       " and \n",
       "<mark class=\"entity\" style=\"background: #2ca02c; padding: 0.45em 0.6em; margin: 0 0.25em; line-height: 1; border-radius: 0.35em;\">\n",
       "    stroke\n",
       "    <span style=\"font-size: 0.8em; font-weight: bold; line-height: 1; border-radius: 0.35em; vertical-align: middle; margin-left: 0.5rem\">PROBLEM</span>\n",
       "</mark>\n",
       ".,CURRENT MEDICATIONS:,  Include Diovan, Crestor, and Tricor.,MISCELLANEOUS/EATING HISTORY:  ,He says a couple of friends of his have had heart attacks and have had died.  He used to drink everyday, but stopped two years ago.  He now only drinks on weekends.  He is on his second week of Chantix, which is a medication to come off smoking completely.  Eating, he eats bad food.  He is single.  He eats things like bacon, eggs, and cheese, cheeseburgers, fast food, eats four times a day, seven in the morning, at noon, 9 p.m., and 2 a.m.  He currently weighs 344 pounds and 5'9&quot;.  His ideal body weight is 160 pounds.  He is 184 pounds overweight.  If he lost 70% of his excess body weight that would be 129 pounds and that would get him down to 215.,REVIEW OF SYSTEMS: , Negative for head, neck, heart, lungs, GI, GU, orthopedic, or skin.  He also is positive for gout.  He \n",
       "<mark class=\"entity\" style=\"background: #d62728; padding: 0.45em 0.6em; margin: 0 0.25em; line-height: 1; border-radius: 0.35em;\">\n",
       "    denies\n",
       "    <span style=\"font-size: 0.8em; font-weight: bold; line-height: 1; border-radius: 0.35em; vertical-align: middle; margin-left: 0.5rem\">NEGATED_EXISTENCE</span>\n",
       "</mark>\n",
       " chest \n",
       "<mark class=\"entity\" style=\"background: #2ca02c; padding: 0.45em 0.6em; margin: 0 0.25em; line-height: 1; border-radius: 0.35em;\">\n",
       "    pain\n",
       "    <span style=\"font-size: 0.8em; font-weight: bold; line-height: 1; border-radius: 0.35em; vertical-align: middle; margin-left: 0.5rem\">PROBLEM</span>\n",
       "</mark>\n",
       ", heart attack, coronary artery disease, congestive heart failure, arrhythmia, atrial fibrillation, pacemaker, pulmonary embolism, or CVA.  He denies venous insufficiency or thrombophlebitis.  Denies shortness of breath, COPD, or emphysema.  \n",
       "<mark class=\"entity\" style=\"background: #d62728; padding: 0.45em 0.6em; margin: 0 0.25em; line-height: 1; border-radius: 0.35em;\">\n",
       "    Denies\n",
       "    <span style=\"font-size: 0.8em; font-weight: bold; line-height: 1; border-radius: 0.35em; vertical-align: middle; margin-left: 0.5rem\">NEGATED_EXISTENCE</span>\n",
       "</mark>\n",
       " thyroid problems, hip \n",
       "<mark class=\"entity\" style=\"background: #2ca02c; padding: 0.45em 0.6em; margin: 0 0.25em; line-height: 1; border-radius: 0.35em;\">\n",
       "    pain\n",
       "    <span style=\"font-size: 0.8em; font-weight: bold; line-height: 1; border-radius: 0.35em; vertical-align: middle; margin-left: 0.5rem\">PROBLEM</span>\n",
       "</mark>\n",
       ", osteoarthritis, rheumatoid arthritis, GERD, hiatal hernia, peptic ulcer disease, gallstones, infected gallbladder, pancreatitis, fatty liver, hepatitis, rectal bleeding, polyps, incontinence of stool, urinary stress incontinence, or \n",
       "<mark class=\"entity\" style=\"background: #2ca02c; padding: 0.45em 0.6em; margin: 0 0.25em; line-height: 1; border-radius: 0.35em;\">\n",
       "    cancer\n",
       "    <span style=\"font-size: 0.8em; font-weight: bold; line-height: 1; border-radius: 0.35em; vertical-align: middle; margin-left: 0.5rem\">PROBLEM</span>\n",
       "</mark>\n",
       ".  He denies cellulitis, pseudotumor cerebri, meningitis, or encephalitis.,PHYSICAL EXAMINATION:  ,He is alert and oriented x 3.  Cranial nerves II-XII are intact.  Neck is soft and supple.  Lungs:  He has positive wheezing bilaterally.  Heart is regular rhythm and rate.  His abdomen is soft.  Extremities:  He has 1+ pitting edema.,IMPRESSION/PLAN:,  I have explained to him the risks and potential complications of laparoscopic gastric bypass in detail and these include bleeding, infection, deep venous thrombosis, pulmonary embolism, leakage from the gastrojejuno-anastomosis, jejunojejuno-anastomosis, and possible bowel obstruction among other potential complications.  He understands.  He wants to proceed with workup and evaluation for laparoscopic Roux-en-Y gastric bypass.  He will need to get a letter of approval from Dr. XYZ.  He will need to see a nutritionist and mental health worker.  He will need an upper endoscopy by either Dr. XYZ.  He will need to go to Dr. XYZ as he previously had a sleep study.  We will need another sleep study.  He will need H. pylori testing, thyroid function tests, LFTs, glycosylated hemoglobin, and fasting blood sugar.  After this is performed, we will submit him for insurance approval.</div></span>"
      ],
      "text/plain": [
       "<IPython.core.display.HTML object>"
      ]
     },
     "metadata": {},
     "output_type": "display_data"
    }
   ],
   "source": [
    "text = str(transcription_text[2])\n",
    "doc = nlp(text)\n",
    "print(\"Target Entities Found:\", doc.ents)\n",
    "print(\"-------------------------------\")\n",
    "for ent in doc.ents:\n",
    "    if any([ent._.is_negated, ent._.is_uncertain, ent._.is_historical, ent._.is_family, ent._.is_hypothetical, ]):\n",
    "        print(\"'{0}' modified by {1}\".format(ent, ent._.modifiers))\n",
    "        print()\n",
    "print(\"-------------------------------\")\n",
    "medspacy.visualization.visualize_ent(doc)"
   ]
  },
  {
   "cell_type": "markdown",
   "id": "9443ab5d-a719-45ea-9d35-bb895f1a2b49",
   "metadata": {},
   "source": [
    "### Named Entity Recognition on a List of Patient's Notes \n",
    " - Identify notes that mention the specified target conditions or treatments"
   ]
  },
  {
   "cell_type": "code",
   "execution_count": 4,
   "id": "3ba216b6-d239-4d7a-bf7d-61a5db2b07df",
   "metadata": {},
   "outputs": [
    {
     "name": "stdout",
     "output_type": "stream",
     "text": [
      "----- Full Results -----\n",
      "Target Entities Found: ['NA', {'pain'}, {'diabetes', 'pain'}, 'NA', {'hypertension'}, 'NA', 'NA', 'NA', 'NA', 'NA', 'NA', 'NA', {'cancer'}, {'pain', 'hypertension'}, 'NA', 'NA', 'NA', 'NA', 'NA', {'diabetes', 'hypertension'}, {'cancer'}, {'pain', 'hypertension'}, 'NA', 'NA', 'NA', 'NA', 'NA', 'NA', 'NA', {'pain'}, 'NA', {'insulin', 'hypertension'}, 'NA', 'NA', {'stroke'}, {'pain'}, 'NA', 'NA', {'cancer', 'pain'}, {'pain'}, 'NA', {'pain'}, 'NA', 'NA', {'pain'}, 'NA', 'NA', 'NA', 'NA', 'NA', {'cancer'}, {'cancer'}, 'NA', 'NA', 'NA', 'NA', 'NA', {'cancer'}, {'cancer', 'pain'}, 'NA', 'NA', {'pain'}, 'NA', 'NA', {'cancer', 'stroke'}, 'NA', 'NA', {'diabetes', 'hypertension'}, {'pain', 'hypertension'}, 'NA', {'pain'}, 'NA', {'pain'}, 'NA', 'NA', 'NA', 'NA', 'NA', 'NA', 'NA', {'pain'}, 'NA', {'pain'}, {'stroke'}, 'NA', 'NA', {'pain'}, {'pain'}, 'NA', {'pain'}, {'pain'}, {'pain'}, 'NA', 'NA', 'NA', 'NA', 'NA', 'NA', {'pain'}, {'pain'}]\n"
     ]
    }
   ],
   "source": [
    "results = []\n",
    "for i in transcription_text:\n",
    "    # run model on row\n",
    "    text = str(transcription_text[i])\n",
    "    doc = nlp(text)\n",
    "    \n",
    "    # identify unique targets found that were not negated, family history, or hypothetical\n",
    "    found = set()\n",
    "    for ent in doc.ents:      \n",
    "        if not any([ent._.is_negated, ent._.is_family, ent._.is_hypothetical]):\n",
    "            if str(ent).lower() == 'diabetic':\n",
    "                found.add('diabetes')\n",
    "            else: \n",
    "                found.add(str(ent).lower())\n",
    "    \n",
    "    if len(found) <1:\n",
    "        results.append(\"NA\")\n",
    "    else:\n",
    "        results.append(found)\n",
    "    \n",
    "    #print('----- Patient', i+1, '-----')\n",
    "    #print(\"----- Target Entities Found:\", found)\n",
    "    #medspacy.visualization.visualize_ent(doc)\n",
    "    \n",
    "print('----- Full Results -----')\n",
    "print(\"Target Entities Found:\", results)"
   ]
  },
  {
   "cell_type": "markdown",
   "id": "41030782-ea14-4df7-9673-4bb187004707",
   "metadata": {},
   "source": [
    "### Save Target Results"
   ]
  },
  {
   "cell_type": "code",
   "execution_count": 5,
   "id": "84a989f8-69c2-4846-9a5c-dd5671ab8a6b",
   "metadata": {},
   "outputs": [],
   "source": [
    "df_results = filered_df\n",
    "df_results['targets_identified'] = results \n",
    "df_results['targets_identified'] = df_results['targets_identified'].astype(str).str.strip('{|}')\n",
    "df_results['targets_identified'] = df_results['targets_identified'].str.replace(\"\\'\",\"\")\n",
    "\n",
    "# flag conditions with one-hot encoding \n",
    "df_results['pain_flag'] = df_results['targets_identified'].str.contains('pain')\n",
    "df_results['cancer_flag'] = df_results['targets_identified'].str.contains('cancer')\n",
    "df_results['diabetes_flag'] = df_results['targets_identified'].str.contains('diabetes')\n",
    "df_results['stroke_flag'] = df_results['targets_identified'].str.contains('stroke')\n",
    "df_results['pregnant_flag'] = df_results['targets_identified'].str.contains('pregnant')\n",
    "df_results['hypertension_flag'] = df_results['targets_identified'].str.contains('hypertension')\n",
    "\n",
    "df_results['pain_flag'] = df_results['pain_flag'].astype(int)\n",
    "df_results['cancer_flag'] = df_results['cancer_flag'].astype(int)\n",
    "df_results['diabetes_flag'] = df_results['diabetes_flag'].astype(int)\n",
    "df_results['stroke_flag'] = df_results['stroke_flag'].astype(int)\n",
    "df_results['pregnant_flag'] = df_results['pregnant_flag'].astype(int)\n",
    "df_results['hypertension_flag'] = df_results['hypertension_flag'].astype(int)\n",
    "\n",
    "df_results.to_csv('output-with-targets.csv', index=False)\n",
    "#print(df_results['targets_identified'])"
   ]
  },
  {
   "cell_type": "markdown",
   "id": "4496dd09-0906-4eea-866d-60c778fdc043",
   "metadata": {},
   "source": [
    "### Chart Results"
   ]
  },
  {
   "cell_type": "code",
   "execution_count": 6,
   "id": "9dca4018-7d4c-41b8-b8cb-7f5504f1db79",
   "metadata": {
    "tags": []
   },
   "outputs": [
    {
     "data": {
      "image/png": "[encoded data removed]",
      "text/plain": [
       "<Figure size 850x250 with 1 Axes>"
      ]
     },
     "metadata": {},
     "output_type": "display_data"
    }
   ],
   "source": [
    "# create a chart to view results\n",
    "pain_tot = df_results['pain_flag'].sum()\n",
    "cancer_tot = df_results['cancer_flag'].sum()\n",
    "diabetes_tot = df_results['diabetes_flag'].sum()\n",
    "stroke_tot = df_results['stroke_flag'].sum()\n",
    "pregnant_tot = df_results['pregnant_flag'].sum()\n",
    "hypertension_tot = df_results['hypertension_flag'].sum()\n",
    "total = df_results['id'].count()\n",
    "\n",
    "b = [cancer_tot, diabetes_tot, hypertension_tot, pain_tot, pregnant_tot, stroke_tot]\n",
    "l = ['cancer', 'diabetes', 'hypertension', 'pain', 'pregnant', 'stroke']\n",
    "\n",
    "plt.rcParams[\"figure.figsize\"] = (8.5,2.5)\n",
    "plt.bar(l, b)\n",
    "plt.ylim(0, max(b)+10)\n",
    "plt.title('Count of Patients by Condition (n='+str(total)+')')\n",
    "plt.xlabel(\"Condition\")\n",
    "plt.ylabel(\"Patients\")\n",
    "plt.savefig('conditions_chart.png', bbox_inches='tight')\n",
    "for i in range(len(b)):\n",
    "    plt.annotate(str(b[i]), xy=(l[i],b[i]), ha='center', va='bottom')\n",
    "\n",
    "plt.show()"
   ]
  },
  {
   "cell_type": "markdown",
   "id": "0d75bf0f-ef65-42cb-9113-9d3e7400a940",
   "metadata": {},
   "source": [
    "<hr>  \n",
    "   \n",
    "## Summarization  \n",
    "   \n",
    "<hr>        "
   ]
  },
  {
   "cell_type": "markdown",
   "id": "0c532947-d7e5-4928-86ea-838efe95cc7d",
   "metadata": {
    "tags": []
   },
   "source": [
    "### Summarize One Patient's Notes Using Lemmatization"
   ]
  },
  {
   "cell_type": "code",
   "execution_count": 7,
   "id": "9b5f08ab-71fa-44a8-9498-56e2da9f9bd5",
   "metadata": {
    "tags": []
   },
   "outputs": [
    {
     "name": "stdout",
     "output_type": "stream",
     "text": [
      "LIST OF SENTENCE SCORES USING LEMMAS:\n",
      " [0.08333, 0.11765, 0.0, 0.0, 0.2, 0.0, 0.0, 0.25, 0.05, 0.08333, 0.14286, 0.0, 0.0, 0.0, 0.0, 0.0, 0.0, 0.0, 0.0, 0.125, 0.0, 0.15385, 0.0, 0.08333, 0.16667]\n"
     ]
    },
    {
     "data": {
      "image/png": "[encoded data removed]",
      "text/plain": [
       "<Figure size 850x250 with 1 Axes>"
      ]
     },
     "metadata": {},
     "output_type": "display_data"
    }
   ],
   "source": [
    "# load text into trained spaCy pipeline\n",
    "nlp = spacy.load('en_core_web_sm')\n",
    "doc = nlp(transcription_text[0])\n",
    "\n",
    "# create a function to remove whitepace, stopwords, and punctuation\n",
    "def we_care_about(token):\n",
    "    return not (token.is_space or token.is_punct or token.is_stop)\n",
    "\n",
    "# remove whitespace, stopwords, and punctuation & make text lowercase\n",
    "interesting_lemmas = [token.lemma_.lower() for token in doc if we_care_about(token)]\n",
    "\n",
    "# count lemma frequency \n",
    "lemma_freq = Counter(interesting_lemmas)\n",
    "\n",
    "# find most common lemmas\n",
    "top_lemmas = set()\n",
    "for l, freq in lemma_freq.most_common(5):\n",
    "    top_lemmas.add(l)\n",
    "\n",
    "# count number of lemmas in each sentence\n",
    "sentences = list(doc.sents)\n",
    "sentence_score_list = list()\n",
    "for sentence in sentences:\n",
    "    important_count = 0\n",
    "    total_count = 0\n",
    "    \n",
    "    for lem in sentence:\n",
    "        #count important lemmas in sentence\n",
    "        if lem.lemma_.lower() in top_lemmas:\n",
    "            important_count += 1\n",
    "        \n",
    "        #count total lemmas in sentence\n",
    "        if not(lem.is_space or lem.is_punct):\n",
    "            total_count += 1\n",
    "    \n",
    "    score = 0 if total_count == 0 else round(important_count/total_count, 5)\n",
    "    sentence_score_list.append(score)\n",
    "    \n",
    "print(\"LIST OF SENTENCE SCORES USING LEMMAS:\\n\", sentence_score_list)\n",
    "\n",
    "# plot a histogram with sentence scores\n",
    "plt.hist(sentence_score_list)\n",
    "plt.title('Frequency of Sentence Scores Using Lemmas')\n",
    "plt.xlabel(\"Score\")\n",
    "plt.ylabel(\"Frequency\")\n",
    "plt.show()"
   ]
  },
  {
   "cell_type": "code",
   "execution_count": 8,
   "id": "61763aab-e515-48f3-b786-bcf23f3de2d4",
   "metadata": {},
   "outputs": [
    {
     "name": "stdout",
     "output_type": "stream",
     "text": [
      "TRANSCRIPTION:\n",
      "-----------------------------\n",
      "ORIGINAL:\n",
      " SUBJECTIVE:,  This 23-year-old white female presents with complaint of allergies.  She used to have allergies when she lived in Seattle but she thinks they are worse here.  In the past, she has tried Claritin, and Zyrtec.  Both worked for short time but then seemed to lose effectiveness.  She has used Allegra also.  She used that last summer and she began using it again two weeks ago.  It does not appear to be working very well.  She has used over-the-counter sprays but no prescription nasal sprays.  She does have asthma but doest not require daily medication for this and does not think it is flaring up.,MEDICATIONS: , Her only medication currently is Ortho Tri-Cyclen and the Allegra.,ALLERGIES: , She has no known medicine allergies.,OBJECTIVE:,Vitals:  Weight was 130 pounds and blood pressure 124/78.,HEENT:  Her throat was mildly erythematous without exudate.  Nasal mucosa was erythematous and swollen.  Only clear drainage was seen.  TMs were clear.,Neck:  Supple without adenopathy.,Lungs:  Clear.,ASSESSMENT:,  Allergic rhinitis.,PLAN:,1.  She will try Zyrtec instead of Allegra again.  Another option will be to use loratadine.  She does not think she has prescription coverage so that might be cheaper.,2.  Samples of Nasonex two sprays in each nostril given for three weeks.  A prescription was written as well.\n",
      ">>>>> SENTENCE COUNT: 25\n",
      "-----------------------------\n",
      "SUMMARY:\n",
      "SUBJECTIVE:,  This 23-year-old white female presents with complaint of allergies.   She used to have allergies when she lived in Seattle but she thinks they are worse here.   She has used Allegra also.   She has used over-the-counter sprays but no prescription nasal sprays.   ,MEDICATIONS: , Her only medication currently is Ortho Tri-Cyclen and the Allegra. ,ALLERGIES: , She has no known medicine allergies. She will try Zyrtec instead of Allegra again.   She does not think she has prescription coverage so that might be cheaper. Samples of Nasonex two sprays in each nostril given for three weeks.   A prescription was written as well.\n",
      ">>>>> SENTENCE COUNT: 10\n"
     ]
    }
   ],
   "source": [
    "# create a summary by adding each sentence to a list if score > cutoff \n",
    "cutoff_score = 0.05\n",
    "\n",
    "lemma_summary_list = list()\n",
    "sent_count_summary = 0\n",
    "sent_count_original = 0\n",
    "\n",
    "for sent in sentences:\n",
    "    important_count = 0\n",
    "    total_count = 0\n",
    "    sent_count_original+=1\n",
    "    \n",
    "    for lem in sent:\n",
    "        #count important words in sentence\n",
    "        if lem.lemma_.lower() in top_lemmas:\n",
    "            important_count += 1\n",
    "        \n",
    "        #count total words in sentence\n",
    "        if not(lem.is_space or lem.is_punct):\n",
    "            total_count += 1\n",
    "    \n",
    "    score = 0 if total_count == 0 else round(important_count/total_count, 5)\n",
    "    \n",
    "    if score > cutoff_score:\n",
    "        lemma_summary_list.append(sent) \n",
    "        sent_count_summary +=1\n",
    "        \n",
    "print(\"TRANSCRIPTION:\\n-----------------------------\")\n",
    "print(\"ORIGINAL:\\n\", doc)\n",
    "print(\">>>>> SENTENCE COUNT:\", sent_count_original)\n",
    "print(\"-----------------------------\")\n",
    "print(\"SUMMARY:\\n\"+ ' '.join(str(s) for s in lemma_summary_list))\n",
    "print(\">>>>> SENTENCE COUNT:\", sent_count_summary)"
   ]
  },
  {
   "cell_type": "markdown",
   "id": "49307e1d-db0f-47de-8853-21a7fd6d7288",
   "metadata": {
    "tags": []
   },
   "source": [
    "### Summarize a List of Patient's Notes Using Lemmatization"
   ]
  },
  {
   "cell_type": "code",
   "execution_count": 9,
   "id": "621ad4ef-9f50-4378-9495-5a8f5c0bd8ab",
   "metadata": {},
   "outputs": [],
   "source": [
    "# create a function to remove whitepace, stopwords, and punctuation\n",
    "def we_care_about(token):\n",
    "    return not (token.is_space or token.is_punct or token.is_stop)\n",
    "\n",
    "nlp = spacy.load('en_core_web_sm')\n",
    " \n",
    "cutoff_score = 0.05\n",
    "\n",
    "all_scores = []\n",
    "all_summary = []\n",
    "\n",
    "for r in transcription_text:\n",
    "\n",
    "    # load text into trained spaCy pipeline\n",
    "    text = str(transcription_text[r])\n",
    "    doc = nlp(text)\n",
    "\n",
    "    # remove whitespace, stopwords, and punctuation & make text lowercase\n",
    "    interesting_lemmas = [token.lemma_.lower() for token in doc if we_care_about(token)]\n",
    "\n",
    "    # count lemma frequency \n",
    "    lemma_freq = Counter(interesting_lemmas)\n",
    "\n",
    "    # find most common lemmas\n",
    "    top_lemmas = set()\n",
    "    for l, freq in lemma_freq.most_common(5):\n",
    "        top_lemmas.add(l)\n",
    "\n",
    "    # count number of lemmas in each sentence\n",
    "    sentences = list(doc.sents)\n",
    "    \n",
    "    sentence_score_list = list()\n",
    "    lemma_summary_list = list()\n",
    "    \n",
    "    sent_count_summary = 0\n",
    "    sent_count_original = 0\n",
    "\n",
    "    for sentence in sentences:\n",
    "        important_count = 0\n",
    "        total_count = 0\n",
    "\n",
    "        for lem in sentence:\n",
    "            #count important lemmas in sentence\n",
    "            if lem.lemma_.lower() in top_lemmas:\n",
    "                important_count += 1\n",
    "\n",
    "            #count total lemmas in sentence\n",
    "            if not(lem.is_space or lem.is_punct):\n",
    "                total_count += 1\n",
    "\n",
    "        score = 0 if total_count == 0 else round(important_count/total_count, 5)\n",
    "        sentence_score_list.append(score)\n",
    "\n",
    "        if score > cutoff_score:\n",
    "            lemma_summary_list.append(sentence) \n",
    "            sent_count_summary +=1\n",
    "        \n",
    "        sent_count_original+=1\n",
    "        \n",
    "    all_scores.append(sentence_score_list)\n",
    "    all_summary.append(''.join(str(s) for s in lemma_summary_list))\n",
    "\n",
    "#print(all_summary)"
   ]
  },
  {
   "cell_type": "markdown",
   "id": "96016557-78a1-4cec-9ddb-7b0f1b34e397",
   "metadata": {},
   "source": [
    "### Save Summary Results"
   ]
  },
  {
   "cell_type": "code",
   "execution_count": 10,
   "id": "7a6f38f5-b987-48f3-924b-e7553b7c4f5a",
   "metadata": {
    "tags": []
   },
   "outputs": [
    {
     "name": "stdout",
     "output_type": "stream",
     "text": [
      "0     SUBJECTIVE:,  This 23-year-old white female pr...\n",
      "1     PAST MEDICAL HISTORY:, He has difficulty climb...\n",
      "2     HISTORY OF PRESENT ILLNESS: , I have seen ABC ...\n",
      "3     2-D M-MODE: , ,1.  Left atrial enlargement wit...\n",
      "4     The left ventricular cavity size and wall thic...\n",
      "                            ...                        \n",
      "95    PREOPERATIVE DIAGNOSIS: , Inguinal hernia.,POS...\n",
      "96    ,A standard inguinal incision was made and dis...\n",
      "97                                                  nan\n",
      "98    PREOPERATIVE DIAGNOSIS:,  Bilateral inguinal h...\n",
      "99    PREOPERATIVE DIAGNOSIS: , Right inguinal herni...\n",
      "Name: note_summary, Length: 100, dtype: object\n"
     ]
    }
   ],
   "source": [
    "df_summary = df_results\n",
    "df_summary['note_summary'] = all_summary \n",
    "df_summary['note_summary'] = df_summary['note_summary'].astype(str).str.strip('[|]')\n",
    "\n",
    "df_results.to_csv('output-with-summary.csv', index=False)\n",
    "print(df_summary['note_summary'])"
   ]
  },
  {
   "cell_type": "code",
   "execution_count": null,
   "id": "d213b975-7be5-45fa-99e8-12adb8d18d03",
   "metadata": {},
   "outputs": [],
   "source": []
  }
 ],
 "metadata": {
  "kernelspec": {
   "display_name": "Python 3 (ipykernel)",
   "language": "python",
   "name": "python3"
  },
  "language_info": {
   "codemirror_mode": {
    "name": "ipython",
    "version": 3
   },
   "file_extension": ".py",
   "mimetype": "text/x-python",
   "name": "python",
   "nbconvert_exporter": "python",
   "pygments_lexer": "ipython3",
   "version": "3.11.3"
  }
 },
 "nbformat": 4,
 "nbformat_minor": 5
}
